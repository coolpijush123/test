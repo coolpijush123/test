{
    "nbformat": 4, 
    "nbformat_minor": 0, 
    "cells": [
        {
            "execution_count": 7, 
            "metadata": {
                "collapsed": false
            }, 
            "outputs": [
                {
                    "text": "Collecting ibm_db\n  Downloading ibm_db-2.0.7.tar.gz (553kB)\n\u001b[K    100% |\u2588\u2588\u2588\u2588\u2588\u2588\u2588\u2588\u2588\u2588\u2588\u2588\u2588\u2588\u2588\u2588\u2588\u2588\u2588\u2588\u2588\u2588\u2588\u2588\u2588\u2588\u2588\u2588\u2588\u2588\u2588\u2588| 563kB 2.0MB/s \n\u001b[?25hBuilding wheels for collected packages: ibm-db\n  Running setup.py bdist_wheel for ibm-db ... \u001b[?25l-\b \b\\\b \b|\b \b/\b \b-\b \b\\\b \b|\b \b/\b \b-\b \b\\\b \b|\b \b/\b \b-\b \b\\\b \bdone\n\u001b[?25h  Stored in directory: /gpfs/fs01/user/s824-ebceb0a4aaced1-5b6b6a42040f/.cache/pip/wheels/d7/05/e2/d7b2f153bfbabcdf8af0fec36d78656142b5966cf6be091af3\nSuccessfully built ibm-db\nInstalling collected packages: ibm-db\nSuccessfully installed ibm-db-2.0.7\n", 
                    "name": "stdout", 
                    "output_type": "stream"
                }
            ], 
            "cell_type": "code", 
            "source": "!pip install ibm_db"
        }, 
        {
            "execution_count": 16, 
            "metadata": {
                "collapsed": false
            }, 
            "outputs": [
                {
                    "text": "Collecting ibm_db_dbi\n\u001b[31m  Could not find a version that satisfies the requirement ibm_db_dbi (from versions: )\u001b[0m\n\u001b[31mNo matching distribution found for ibm_db_dbi\u001b[0m\n", 
                    "name": "stdout", 
                    "output_type": "stream"
                }
            ], 
            "cell_type": "code", 
            "source": "!pip install ibm_db_dbi"
        }, 
        {
            "execution_count": 17, 
            "metadata": {
                "collapsed": false
            }, 
            "outputs": [], 
            "cell_type": "code", 
            "source": "import ibm_db, ibm_db_dbi;"
        }, 
        {
            "execution_count": 18, 
            "metadata": {
                "collapsed": true
            }, 
            "outputs": [], 
            "cell_type": "code", 
            "source": "username = \"pchatte\";\npassword = \"Gurbyb11\""
        }, 
        {
            "execution_count": 19, 
            "metadata": {
                "collapsed": true
            }, 
            "outputs": [], 
            "cell_type": "code", 
            "source": "database = \"bigsql\";\nhostname = \"iop-bi-master.imdemocloud.com\";\nport = \"32051\""
        }, 
        {
            "execution_count": 20, 
            "metadata": {
                "collapsed": false
            }, 
            "outputs": [], 
            "cell_type": "code", 
            "source": "import ibm_db, ibm_db_dbi;\nconn_string = (\n      \"DRIVER={{IBM DB2 ODBC DRIVER}};\"\n      \"DATABASE={0};\"\n      \"HOSTNAME={1};\"\n      \"PORT={2};\"\n      \"PROTOCOL=TCPIP;\"\n      \"UID={3};\"\n      \"PWD={4};\").format(database, hostname, port, username, password);\n\nconn = ibm_db.connect(conn_string, \"\", \"\")"
        }, 
        {
            "execution_count": 21, 
            "metadata": {
                "collapsed": false
            }, 
            "outputs": [
                {
                    "data": {
                        "text/plain": "{0: '94', '1': '94'}"
                    }, 
                    "execution_count": 21, 
                    "output_type": "execute_result", 
                    "metadata": {}
                }
            ], 
            "cell_type": "code", 
            "source": "query = \"select count(*) from pchatte.offers\";\nstmt = ibm_db.exec_immediate(conn, query);\nibm_db.fetch_both(stmt)"
        }, 
        {
            "execution_count": 24, 
            "metadata": {
                "collapsed": false
            }, 
            "outputs": [
                {
                    "data": {
                        "text/plain": "   offer_id  campaign            varietal  min_qty  discount       origin  \\\n0         0   January              Malbec       72        56       France   \n1         1   January          Pinot Noir       72        17       France   \n2         2  February           Espumante      144        32       Oregon   \n3         3  February           Champagne       72        48       France   \n4         4  February  Cabernet Sauvignon      144        44  New Zealand   \n\n  past_peak  \n0     FALSE  \n1     FALSE  \n2      TRUE  \n3      TRUE  \n4      TRUE  ", 
                        "text/html": "<div>\n<table border=\"1\" class=\"dataframe\">\n  <thead>\n    <tr style=\"text-align: right;\">\n      <th></th>\n      <th>offer_id</th>\n      <th>campaign</th>\n      <th>varietal</th>\n      <th>min_qty</th>\n      <th>discount</th>\n      <th>origin</th>\n      <th>past_peak</th>\n    </tr>\n  </thead>\n  <tbody>\n    <tr>\n      <th>0</th>\n      <td>0</td>\n      <td>January</td>\n      <td>Malbec</td>\n      <td>72</td>\n      <td>56</td>\n      <td>France</td>\n      <td>FALSE</td>\n    </tr>\n    <tr>\n      <th>1</th>\n      <td>1</td>\n      <td>January</td>\n      <td>Pinot Noir</td>\n      <td>72</td>\n      <td>17</td>\n      <td>France</td>\n      <td>FALSE</td>\n    </tr>\n    <tr>\n      <th>2</th>\n      <td>2</td>\n      <td>February</td>\n      <td>Espumante</td>\n      <td>144</td>\n      <td>32</td>\n      <td>Oregon</td>\n      <td>TRUE</td>\n    </tr>\n    <tr>\n      <th>3</th>\n      <td>3</td>\n      <td>February</td>\n      <td>Champagne</td>\n      <td>72</td>\n      <td>48</td>\n      <td>France</td>\n      <td>TRUE</td>\n    </tr>\n    <tr>\n      <th>4</th>\n      <td>4</td>\n      <td>February</td>\n      <td>Cabernet Sauvignon</td>\n      <td>144</td>\n      <td>44</td>\n      <td>New Zealand</td>\n      <td>TRUE</td>\n    </tr>\n  </tbody>\n</table>\n</div>"
                    }, 
                    "execution_count": 24, 
                    "output_type": "execute_result", 
                    "metadata": {}
                }
            ], 
            "cell_type": "code", 
            "source": "import pandas as pd\nimport ibm_db_dbi\npconn = ibm_db_dbi.Connection(conn)\ndf_offers = pd.read_sql('SELECT * FROM pchatte.offers', pconn)\ndf_offers.columns = [\"offer_id\", \"campaign\", \"varietal\", \"min_qty\", \"discount\", \"origin\", \"past_peak\"]\ndf_offers.head()"
        }, 
        {
            "execution_count": 26, 
            "metadata": {
                "collapsed": false
            }, 
            "outputs": [
                {
                    "data": {
                        "text/plain": "  customer_name  offer_id description  n\n0         Smith         2      coupon  1\n1         Smith        24      coupon  1\n2       Johnson        17      coupon  1\n3       Johnson        24      coupon  1\n4       Johnson        26      coupon  1", 
                        "text/html": "<div>\n<table border=\"1\" class=\"dataframe\">\n  <thead>\n    <tr style=\"text-align: right;\">\n      <th></th>\n      <th>customer_name</th>\n      <th>offer_id</th>\n      <th>description</th>\n      <th>n</th>\n    </tr>\n  </thead>\n  <tbody>\n    <tr>\n      <th>0</th>\n      <td>Smith</td>\n      <td>2</td>\n      <td>coupon</td>\n      <td>1</td>\n    </tr>\n    <tr>\n      <th>1</th>\n      <td>Smith</td>\n      <td>24</td>\n      <td>coupon</td>\n      <td>1</td>\n    </tr>\n    <tr>\n      <th>2</th>\n      <td>Johnson</td>\n      <td>17</td>\n      <td>coupon</td>\n      <td>1</td>\n    </tr>\n    <tr>\n      <th>3</th>\n      <td>Johnson</td>\n      <td>24</td>\n      <td>coupon</td>\n      <td>1</td>\n    </tr>\n    <tr>\n      <th>4</th>\n      <td>Johnson</td>\n      <td>26</td>\n      <td>coupon</td>\n      <td>1</td>\n    </tr>\n  </tbody>\n</table>\n</div>"
                    }, 
                    "execution_count": 26, 
                    "output_type": "execute_result", 
                    "metadata": {}
                }
            ], 
            "cell_type": "code", 
            "source": "df_transactions = pd.read_sql('SELECT * FROM pchatte.transactions', pconn)\ndf_transactions.columns = [\"customer_name\", \"offer_id\", \"description\"]\ndf_transactions['n'] = 1\ndf_transactions.head()"
        }, 
        {
            "source": "In order to segment our customers, we need a way to compare them. To do this we're going to use K-Means clustering. K-means is a way of taking a dataset and finding groups (or clusters) of points that have similar properties. K-means works by grouping the points together in such a way that the distance between all the points and the midpoint of the cluster they belong to is minimized.", 
            "cell_type": "markdown", 
            "metadata": {}
        }, 
        {
            "execution_count": 27, 
            "metadata": {
                "collapsed": false
            }, 
            "outputs": [], 
            "cell_type": "code", 
            "source": "# join the offers and transactions table\ndf = pd.merge(df_offers, df_transactions)\n\n\n"
        }, 
        {
            "execution_count": 28, 
            "metadata": {
                "collapsed": true
            }, 
            "outputs": [], 
            "cell_type": "code", 
            "source": "# create a \"pivot table\" which will give us the number of times each customer responded to a given offer\nmatrix = df.pivot_table(index=['customer_name'], columns=['offer_id'], values='n')\n# a little tidying up. fill NA values with 0 and make the index into a column\nmatrix = matrix.fillna(0).reset_index()\n# save a list of the 0/1 columns. we'll use these a bit later\nx_cols = matrix.columns[1:]"
        }, 
        {
            "source": "Now to create the clusters, we're going to use the KMeans functionality from scikit-learn. I arbitrarily chose 5 clusters.", 
            "cell_type": "markdown", 
            "metadata": {}
        }, 
        {
            "execution_count": 29, 
            "metadata": {
                "collapsed": false
            }, 
            "outputs": [
                {
                    "data": {
                        "text/plain": "0    39\n3    22\n1    18\n4    15\n2     3\nName: cluster, dtype: int64"
                    }, 
                    "execution_count": 29, 
                    "output_type": "execute_result", 
                    "metadata": {}
                }
            ], 
            "cell_type": "code", 
            "source": "from sklearn.cluster import KMeans\n\ncluster = KMeans(n_clusters=5)\n# slice matrix so we only include the 0/1 indicator columns in the clustering\nmatrix['cluster'] = cluster.fit_predict(matrix[matrix.columns[2:]])\nmatrix.cluster.value_counts()"
        }, 
        {
            "source": "Visualizing the Cluster:\nUsing PCA to convert from multi-dimensional to 2 dimensions", 
            "cell_type": "markdown", 
            "metadata": {}
        }, 
        {
            "execution_count": 30, 
            "metadata": {
                "collapsed": false
            }, 
            "outputs": [
                {
                    "data": {
                        "text/plain": "offer_id customer_name  cluster         x         y\n0                Adams        3 -0.977592  0.136707\n1                Allen        0  0.343786  0.010889\n2             Anderson        4  0.438798  1.016915\n3               Bailey        0 -0.257865  0.064824\n4                Baker        0 -0.222225 -0.123091", 
                        "text/html": "<div>\n<table border=\"1\" class=\"dataframe\">\n  <thead>\n    <tr style=\"text-align: right;\">\n      <th>offer_id</th>\n      <th>customer_name</th>\n      <th>cluster</th>\n      <th>x</th>\n      <th>y</th>\n    </tr>\n  </thead>\n  <tbody>\n    <tr>\n      <th>0</th>\n      <td>Adams</td>\n      <td>3</td>\n      <td>-0.977592</td>\n      <td>0.136707</td>\n    </tr>\n    <tr>\n      <th>1</th>\n      <td>Allen</td>\n      <td>0</td>\n      <td>0.343786</td>\n      <td>0.010889</td>\n    </tr>\n    <tr>\n      <th>2</th>\n      <td>Anderson</td>\n      <td>4</td>\n      <td>0.438798</td>\n      <td>1.016915</td>\n    </tr>\n    <tr>\n      <th>3</th>\n      <td>Bailey</td>\n      <td>0</td>\n      <td>-0.257865</td>\n      <td>0.064824</td>\n    </tr>\n    <tr>\n      <th>4</th>\n      <td>Baker</td>\n      <td>0</td>\n      <td>-0.222225</td>\n      <td>-0.123091</td>\n    </tr>\n  </tbody>\n</table>\n</div>"
                    }, 
                    "execution_count": 30, 
                    "output_type": "execute_result", 
                    "metadata": {}
                }
            ], 
            "cell_type": "code", 
            "source": "from sklearn.decomposition import PCA\n\npca = PCA(n_components=2)\nmatrix['x'] = pca.fit_transform(matrix[x_cols])[:,0]\nmatrix['y'] = pca.fit_transform(matrix[x_cols])[:,1]\nmatrix = matrix.reset_index()\n\ncustomer_clusters = matrix[['customer_name', 'cluster', 'x', 'y']]\ncustomer_clusters.head()"
        }, 
        {
            "execution_count": 31, 
            "metadata": {
                "collapsed": false
            }, 
            "outputs": [
                {
                    "data": {
                        "text/plain": "      offer_id  campaign    varietal  min_qty  discount  origin past_peak  \\\n0            1   January  Pinot Noir       72        17  France     FALSE   \n1            1   January  Pinot Noir       72        17  France     FALSE   \n2            1   January  Pinot Noir       72        17  France     FALSE   \n3            1   January  Pinot Noir       72        17  France     FALSE   \n4            1   January  Pinot Noir       72        17  France     FALSE   \n5            1   January  Pinot Noir       72        17  France     FALSE   \n6            1   January  Pinot Noir       72        17  France     FALSE   \n7            1   January  Pinot Noir       72        17  France     FALSE   \n8            1   January  Pinot Noir       72        17  France     FALSE   \n9            1   January  Pinot Noir       72        17  France     FALSE   \n10           1   January  Pinot Noir       72        17  France     FALSE   \n11           1   January  Pinot Noir       72        17  France     FALSE   \n12           1   January  Pinot Noir       72        17  France     FALSE   \n13           1   January  Pinot Noir       72        17  France     FALSE   \n14           1   January  Pinot Noir       72        17  France     FALSE   \n15           1   January  Pinot Noir       72        17  France     FALSE   \n16           1   January  Pinot Noir       72        17  France     FALSE   \n17           1   January  Pinot Noir       72        17  France     FALSE   \n18           1   January  Pinot Noir       72        17  France     FALSE   \n19           1   January  Pinot Noir       72        17  France     FALSE   \n20           1   January  Pinot Noir       72        17  France     FALSE   \n21           1   January  Pinot Noir       72        17  France     FALSE   \n22           1   January  Pinot Noir       72        17  France     FALSE   \n23           1   January  Pinot Noir       72        17  France     FALSE   \n24           1   January  Pinot Noir       72        17  France     FALSE   \n25           1   January  Pinot Noir       72        17  France     FALSE   \n26           1   January  Pinot Noir       72        17  France     FALSE   \n27           1   January  Pinot Noir       72        17  France     FALSE   \n28           1   January  Pinot Noir       72        17  France     FALSE   \n29           1   January  Pinot Noir       72        17  France     FALSE   \n...        ...       ...         ...      ...       ...     ...       ...   \n2014        30  December   Champagne       72        89  France     FALSE   \n2015        30  December   Champagne       72        89  France     FALSE   \n2016        30  December   Champagne       72        89  France     FALSE   \n2017        30  December   Champagne       72        89  France     FALSE   \n2018        30  December   Champagne       72        89  France     FALSE   \n2019        30  December   Champagne       72        89  France     FALSE   \n2020        30  December   Champagne       72        89  France     FALSE   \n2021        30  December   Champagne       72        89  France     FALSE   \n2022        30  December   Champagne       72        89  France     FALSE   \n2023        30  December   Champagne       72        89  France     FALSE   \n2024        30  December   Champagne       72        89  France     FALSE   \n2025        30  December   Champagne       72        89  France     FALSE   \n2026        30  December   Champagne       72        89  France     FALSE   \n2027        30  December   Champagne       72        89  France     FALSE   \n2028        30  December   Champagne       72        89  France     FALSE   \n2029        30  December   Champagne       72        89  France     FALSE   \n2030        30  December   Champagne       72        89  France     FALSE   \n2031        30  December   Champagne       72        89  France     FALSE   \n2032        30  December   Champagne       72        89  France     FALSE   \n2033        30  December   Champagne       72        89  France     FALSE   \n2034        30  December   Champagne       72        89  France     FALSE   \n2035        30  December   Champagne       72        89  France     FALSE   \n2036        30  December   Champagne       72        89  France     FALSE   \n2037        30  December   Champagne       72        89  France     FALSE   \n2038        30  December   Champagne       72        89  France     FALSE   \n2039        30  December   Champagne       72        89  France     FALSE   \n2040        30  December   Champagne       72        89  France     FALSE   \n2041        30  December   Champagne       72        89  France     FALSE   \n2042        30  December   Champagne       72        89  France     FALSE   \n2043        30  December   Champagne       72        89  France     FALSE   \n\n     customer_name description  n  cluster         x         y  \n0           Thomas      coupon  1        0  1.129729  0.004645  \n1           Thomas      coupon  1        0  1.129729  0.004645  \n2          Jackson      coupon  1        1  0.886591 -0.515432  \n3          Jackson      coupon  1        1  0.886591 -0.515432  \n4         Mitchell      coupon  1        0  0.384101  0.242153  \n5         Mitchell      coupon  1        0  0.384101  0.242153  \n6         Peterson      coupon  1        4  0.861221  0.360943  \n7         Peterson      coupon  1        4  0.861221  0.360943  \n8             Wood      coupon  1        0  0.447292 -0.077368  \n9             Wood      coupon  1        0  0.447292 -0.077368  \n10           Price      coupon  1        1  0.088505 -0.546601  \n11           Price      coupon  1        1  0.088505 -0.546601  \n12          Foster      coupon  1        1  0.859995 -0.658297  \n13          Foster      coupon  1        1  0.859995 -0.658297  \n14          Foster      coupon  1        1  0.859995 -0.658297  \n15          Foster      coupon  1        1  0.859995 -0.658297  \n16         Sanders      coupon  1        0  1.326254 -0.236750  \n17         Sanders      coupon  1        0  1.326254 -0.236750  \n18         Sanders      coupon  1        0  1.326254 -0.236750  \n19         Sanders      coupon  1        0  1.326254 -0.236750  \n20          Butler      coupon  1        1  0.313231 -0.770769  \n21          Butler      coupon  1        1  0.313231 -0.770769  \n22          Butler      coupon  1        1  0.313231 -0.770769  \n23          Butler      coupon  1        1  0.313231 -0.770769  \n24          Fisher      coupon  1        1  0.415438 -0.547695  \n25          Fisher      coupon  1        1  0.415438 -0.547695  \n26          Thomas      coupon  1        0  1.129729  0.004645  \n27          Thomas      coupon  1        0  1.129729  0.004645  \n28         Jackson      coupon  1        1  0.886591 -0.515432  \n29         Jackson      coupon  1        1  0.886591 -0.515432  \n...            ...         ... ..      ...       ...       ...  \n2014        Carter      coupon  1        3 -1.226754 -0.011297  \n2015        Carter      coupon  1        3 -1.226754 -0.011297  \n2016       Collins      coupon  1        0 -0.148206 -0.016416  \n2017       Collins      coupon  1        0 -0.148206 -0.016416  \n2018       Stewart      coupon  1        3 -1.042430 -0.006991  \n2019       Stewart      coupon  1        3 -1.042430 -0.006991  \n2020          Diaz      coupon  1        3 -1.384874 -0.143145  \n2021          Diaz      coupon  1        3 -1.384874 -0.143145  \n2022         James      coupon  1        3 -1.458526 -0.191031  \n2023         James      coupon  1        3 -1.458526 -0.191031  \n2024          Cruz      coupon  1        3 -0.698886  0.134868  \n2025          Cruz      coupon  1        3 -0.698886  0.134868  \n2026        Hughes      coupon  1        3 -1.570299 -0.153156  \n2027        Hughes      coupon  1        3 -1.570299 -0.153156  \n2028         Price      coupon  1        1  0.088505 -0.546601  \n2029         Price      coupon  1        1  0.088505 -0.546601  \n2030         Myers      coupon  1        3 -0.587113  0.096993  \n2031         Myers      coupon  1        3 -0.587113  0.096993  \n2032         Myers      coupon  1        3 -0.587113  0.096993  \n2033         Myers      coupon  1        3 -0.587113  0.096993  \n2034         Perry      coupon  1        3 -1.321136 -0.005152  \n2035         Perry      coupon  1        3 -1.321136 -0.005152  \n2036         Perry      coupon  1        3 -1.321136 -0.005152  \n2037         Perry      coupon  1        3 -1.321136 -0.005152  \n2038        Butler      coupon  1        1  0.313231 -0.770769  \n2039        Butler      coupon  1        1  0.313231 -0.770769  \n2040        Butler      coupon  1        1  0.313231 -0.770769  \n2041        Butler      coupon  1        1  0.313231 -0.770769  \n2042        Fisher      coupon  1        1  0.415438 -0.547695  \n2043        Fisher      coupon  1        1  0.415438 -0.547695  \n\n[2044 rows x 13 columns]", 
                        "text/html": "<div>\n<table border=\"1\" class=\"dataframe\">\n  <thead>\n    <tr style=\"text-align: right;\">\n      <th></th>\n      <th>offer_id</th>\n      <th>campaign</th>\n      <th>varietal</th>\n      <th>min_qty</th>\n      <th>discount</th>\n      <th>origin</th>\n      <th>past_peak</th>\n      <th>customer_name</th>\n      <th>description</th>\n      <th>n</th>\n      <th>cluster</th>\n      <th>x</th>\n      <th>y</th>\n    </tr>\n  </thead>\n  <tbody>\n    <tr>\n      <th>0</th>\n      <td>1</td>\n      <td>January</td>\n      <td>Pinot Noir</td>\n      <td>72</td>\n      <td>17</td>\n      <td>France</td>\n      <td>FALSE</td>\n      <td>Thomas</td>\n      <td>coupon</td>\n      <td>1</td>\n      <td>0</td>\n      <td>1.129729</td>\n      <td>0.004645</td>\n    </tr>\n    <tr>\n      <th>1</th>\n      <td>1</td>\n      <td>January</td>\n      <td>Pinot Noir</td>\n      <td>72</td>\n      <td>17</td>\n      <td>France</td>\n      <td>FALSE</td>\n      <td>Thomas</td>\n      <td>coupon</td>\n      <td>1</td>\n      <td>0</td>\n      <td>1.129729</td>\n      <td>0.004645</td>\n    </tr>\n    <tr>\n      <th>2</th>\n      <td>1</td>\n      <td>January</td>\n      <td>Pinot Noir</td>\n      <td>72</td>\n      <td>17</td>\n      <td>France</td>\n      <td>FALSE</td>\n      <td>Jackson</td>\n      <td>coupon</td>\n      <td>1</td>\n      <td>1</td>\n      <td>0.886591</td>\n      <td>-0.515432</td>\n    </tr>\n    <tr>\n      <th>3</th>\n      <td>1</td>\n      <td>January</td>\n      <td>Pinot Noir</td>\n      <td>72</td>\n      <td>17</td>\n      <td>France</td>\n      <td>FALSE</td>\n      <td>Jackson</td>\n      <td>coupon</td>\n      <td>1</td>\n      <td>1</td>\n      <td>0.886591</td>\n      <td>-0.515432</td>\n    </tr>\n    <tr>\n      <th>4</th>\n      <td>1</td>\n      <td>January</td>\n      <td>Pinot Noir</td>\n      <td>72</td>\n      <td>17</td>\n      <td>France</td>\n      <td>FALSE</td>\n      <td>Mitchell</td>\n      <td>coupon</td>\n      <td>1</td>\n      <td>0</td>\n      <td>0.384101</td>\n      <td>0.242153</td>\n    </tr>\n    <tr>\n      <th>5</th>\n      <td>1</td>\n      <td>January</td>\n      <td>Pinot Noir</td>\n      <td>72</td>\n      <td>17</td>\n      <td>France</td>\n      <td>FALSE</td>\n      <td>Mitchell</td>\n      <td>coupon</td>\n      <td>1</td>\n      <td>0</td>\n      <td>0.384101</td>\n      <td>0.242153</td>\n    </tr>\n    <tr>\n      <th>6</th>\n      <td>1</td>\n      <td>January</td>\n      <td>Pinot Noir</td>\n      <td>72</td>\n      <td>17</td>\n      <td>France</td>\n      <td>FALSE</td>\n      <td>Peterson</td>\n      <td>coupon</td>\n      <td>1</td>\n      <td>4</td>\n      <td>0.861221</td>\n      <td>0.360943</td>\n    </tr>\n    <tr>\n      <th>7</th>\n      <td>1</td>\n      <td>January</td>\n      <td>Pinot Noir</td>\n      <td>72</td>\n      <td>17</td>\n      <td>France</td>\n      <td>FALSE</td>\n      <td>Peterson</td>\n      <td>coupon</td>\n      <td>1</td>\n      <td>4</td>\n      <td>0.861221</td>\n      <td>0.360943</td>\n    </tr>\n    <tr>\n      <th>8</th>\n      <td>1</td>\n      <td>January</td>\n      <td>Pinot Noir</td>\n      <td>72</td>\n      <td>17</td>\n      <td>France</td>\n      <td>FALSE</td>\n      <td>Wood</td>\n      <td>coupon</td>\n      <td>1</td>\n      <td>0</td>\n      <td>0.447292</td>\n      <td>-0.077368</td>\n    </tr>\n    <tr>\n      <th>9</th>\n      <td>1</td>\n      <td>January</td>\n      <td>Pinot Noir</td>\n      <td>72</td>\n      <td>17</td>\n      <td>France</td>\n      <td>FALSE</td>\n      <td>Wood</td>\n      <td>coupon</td>\n      <td>1</td>\n      <td>0</td>\n      <td>0.447292</td>\n      <td>-0.077368</td>\n    </tr>\n    <tr>\n      <th>10</th>\n      <td>1</td>\n      <td>January</td>\n      <td>Pinot Noir</td>\n      <td>72</td>\n      <td>17</td>\n      <td>France</td>\n      <td>FALSE</td>\n      <td>Price</td>\n      <td>coupon</td>\n      <td>1</td>\n      <td>1</td>\n      <td>0.088505</td>\n      <td>-0.546601</td>\n    </tr>\n    <tr>\n      <th>11</th>\n      <td>1</td>\n      <td>January</td>\n      <td>Pinot Noir</td>\n      <td>72</td>\n      <td>17</td>\n      <td>France</td>\n      <td>FALSE</td>\n      <td>Price</td>\n      <td>coupon</td>\n      <td>1</td>\n      <td>1</td>\n      <td>0.088505</td>\n      <td>-0.546601</td>\n    </tr>\n    <tr>\n      <th>12</th>\n      <td>1</td>\n      <td>January</td>\n      <td>Pinot Noir</td>\n      <td>72</td>\n      <td>17</td>\n      <td>France</td>\n      <td>FALSE</td>\n      <td>Foster</td>\n      <td>coupon</td>\n      <td>1</td>\n      <td>1</td>\n      <td>0.859995</td>\n      <td>-0.658297</td>\n    </tr>\n    <tr>\n      <th>13</th>\n      <td>1</td>\n      <td>January</td>\n      <td>Pinot Noir</td>\n      <td>72</td>\n      <td>17</td>\n      <td>France</td>\n      <td>FALSE</td>\n      <td>Foster</td>\n      <td>coupon</td>\n      <td>1</td>\n      <td>1</td>\n      <td>0.859995</td>\n      <td>-0.658297</td>\n    </tr>\n    <tr>\n      <th>14</th>\n      <td>1</td>\n      <td>January</td>\n      <td>Pinot Noir</td>\n      <td>72</td>\n      <td>17</td>\n      <td>France</td>\n      <td>FALSE</td>\n      <td>Foster</td>\n      <td>coupon</td>\n      <td>1</td>\n      <td>1</td>\n      <td>0.859995</td>\n      <td>-0.658297</td>\n    </tr>\n    <tr>\n      <th>15</th>\n      <td>1</td>\n      <td>January</td>\n      <td>Pinot Noir</td>\n      <td>72</td>\n      <td>17</td>\n      <td>France</td>\n      <td>FALSE</td>\n      <td>Foster</td>\n      <td>coupon</td>\n      <td>1</td>\n      <td>1</td>\n      <td>0.859995</td>\n      <td>-0.658297</td>\n    </tr>\n    <tr>\n      <th>16</th>\n      <td>1</td>\n      <td>January</td>\n      <td>Pinot Noir</td>\n      <td>72</td>\n      <td>17</td>\n      <td>France</td>\n      <td>FALSE</td>\n      <td>Sanders</td>\n      <td>coupon</td>\n      <td>1</td>\n      <td>0</td>\n      <td>1.326254</td>\n      <td>-0.236750</td>\n    </tr>\n    <tr>\n      <th>17</th>\n      <td>1</td>\n      <td>January</td>\n      <td>Pinot Noir</td>\n      <td>72</td>\n      <td>17</td>\n      <td>France</td>\n      <td>FALSE</td>\n      <td>Sanders</td>\n      <td>coupon</td>\n      <td>1</td>\n      <td>0</td>\n      <td>1.326254</td>\n      <td>-0.236750</td>\n    </tr>\n    <tr>\n      <th>18</th>\n      <td>1</td>\n      <td>January</td>\n      <td>Pinot Noir</td>\n      <td>72</td>\n      <td>17</td>\n      <td>France</td>\n      <td>FALSE</td>\n      <td>Sanders</td>\n      <td>coupon</td>\n      <td>1</td>\n      <td>0</td>\n      <td>1.326254</td>\n      <td>-0.236750</td>\n    </tr>\n    <tr>\n      <th>19</th>\n      <td>1</td>\n      <td>January</td>\n      <td>Pinot Noir</td>\n      <td>72</td>\n      <td>17</td>\n      <td>France</td>\n      <td>FALSE</td>\n      <td>Sanders</td>\n      <td>coupon</td>\n      <td>1</td>\n      <td>0</td>\n      <td>1.326254</td>\n      <td>-0.236750</td>\n    </tr>\n    <tr>\n      <th>20</th>\n      <td>1</td>\n      <td>January</td>\n      <td>Pinot Noir</td>\n      <td>72</td>\n      <td>17</td>\n      <td>France</td>\n      <td>FALSE</td>\n      <td>Butler</td>\n      <td>coupon</td>\n      <td>1</td>\n      <td>1</td>\n      <td>0.313231</td>\n      <td>-0.770769</td>\n    </tr>\n    <tr>\n      <th>21</th>\n      <td>1</td>\n      <td>January</td>\n      <td>Pinot Noir</td>\n      <td>72</td>\n      <td>17</td>\n      <td>France</td>\n      <td>FALSE</td>\n      <td>Butler</td>\n      <td>coupon</td>\n      <td>1</td>\n      <td>1</td>\n      <td>0.313231</td>\n      <td>-0.770769</td>\n    </tr>\n    <tr>\n      <th>22</th>\n      <td>1</td>\n      <td>January</td>\n      <td>Pinot Noir</td>\n      <td>72</td>\n      <td>17</td>\n      <td>France</td>\n      <td>FALSE</td>\n      <td>Butler</td>\n      <td>coupon</td>\n      <td>1</td>\n      <td>1</td>\n      <td>0.313231</td>\n      <td>-0.770769</td>\n    </tr>\n    <tr>\n      <th>23</th>\n      <td>1</td>\n      <td>January</td>\n      <td>Pinot Noir</td>\n      <td>72</td>\n      <td>17</td>\n      <td>France</td>\n      <td>FALSE</td>\n      <td>Butler</td>\n      <td>coupon</td>\n      <td>1</td>\n      <td>1</td>\n      <td>0.313231</td>\n      <td>-0.770769</td>\n    </tr>\n    <tr>\n      <th>24</th>\n      <td>1</td>\n      <td>January</td>\n      <td>Pinot Noir</td>\n      <td>72</td>\n      <td>17</td>\n      <td>France</td>\n      <td>FALSE</td>\n      <td>Fisher</td>\n      <td>coupon</td>\n      <td>1</td>\n      <td>1</td>\n      <td>0.415438</td>\n      <td>-0.547695</td>\n    </tr>\n    <tr>\n      <th>25</th>\n      <td>1</td>\n      <td>January</td>\n      <td>Pinot Noir</td>\n      <td>72</td>\n      <td>17</td>\n      <td>France</td>\n      <td>FALSE</td>\n      <td>Fisher</td>\n      <td>coupon</td>\n      <td>1</td>\n      <td>1</td>\n      <td>0.415438</td>\n      <td>-0.547695</td>\n    </tr>\n    <tr>\n      <th>26</th>\n      <td>1</td>\n      <td>January</td>\n      <td>Pinot Noir</td>\n      <td>72</td>\n      <td>17</td>\n      <td>France</td>\n      <td>FALSE</td>\n      <td>Thomas</td>\n      <td>coupon</td>\n      <td>1</td>\n      <td>0</td>\n      <td>1.129729</td>\n      <td>0.004645</td>\n    </tr>\n    <tr>\n      <th>27</th>\n      <td>1</td>\n      <td>January</td>\n      <td>Pinot Noir</td>\n      <td>72</td>\n      <td>17</td>\n      <td>France</td>\n      <td>FALSE</td>\n      <td>Thomas</td>\n      <td>coupon</td>\n      <td>1</td>\n      <td>0</td>\n      <td>1.129729</td>\n      <td>0.004645</td>\n    </tr>\n    <tr>\n      <th>28</th>\n      <td>1</td>\n      <td>January</td>\n      <td>Pinot Noir</td>\n      <td>72</td>\n      <td>17</td>\n      <td>France</td>\n      <td>FALSE</td>\n      <td>Jackson</td>\n      <td>coupon</td>\n      <td>1</td>\n      <td>1</td>\n      <td>0.886591</td>\n      <td>-0.515432</td>\n    </tr>\n    <tr>\n      <th>29</th>\n      <td>1</td>\n      <td>January</td>\n      <td>Pinot Noir</td>\n      <td>72</td>\n      <td>17</td>\n      <td>France</td>\n      <td>FALSE</td>\n      <td>Jackson</td>\n      <td>coupon</td>\n      <td>1</td>\n      <td>1</td>\n      <td>0.886591</td>\n      <td>-0.515432</td>\n    </tr>\n    <tr>\n      <th>...</th>\n      <td>...</td>\n      <td>...</td>\n      <td>...</td>\n      <td>...</td>\n      <td>...</td>\n      <td>...</td>\n      <td>...</td>\n      <td>...</td>\n      <td>...</td>\n      <td>...</td>\n      <td>...</td>\n      <td>...</td>\n      <td>...</td>\n    </tr>\n    <tr>\n      <th>2014</th>\n      <td>30</td>\n      <td>December</td>\n      <td>Champagne</td>\n      <td>72</td>\n      <td>89</td>\n      <td>France</td>\n      <td>FALSE</td>\n      <td>Carter</td>\n      <td>coupon</td>\n      <td>1</td>\n      <td>3</td>\n      <td>-1.226754</td>\n      <td>-0.011297</td>\n    </tr>\n    <tr>\n      <th>2015</th>\n      <td>30</td>\n      <td>December</td>\n      <td>Champagne</td>\n      <td>72</td>\n      <td>89</td>\n      <td>France</td>\n      <td>FALSE</td>\n      <td>Carter</td>\n      <td>coupon</td>\n      <td>1</td>\n      <td>3</td>\n      <td>-1.226754</td>\n      <td>-0.011297</td>\n    </tr>\n    <tr>\n      <th>2016</th>\n      <td>30</td>\n      <td>December</td>\n      <td>Champagne</td>\n      <td>72</td>\n      <td>89</td>\n      <td>France</td>\n      <td>FALSE</td>\n      <td>Collins</td>\n      <td>coupon</td>\n      <td>1</td>\n      <td>0</td>\n      <td>-0.148206</td>\n      <td>-0.016416</td>\n    </tr>\n    <tr>\n      <th>2017</th>\n      <td>30</td>\n      <td>December</td>\n      <td>Champagne</td>\n      <td>72</td>\n      <td>89</td>\n      <td>France</td>\n      <td>FALSE</td>\n      <td>Collins</td>\n      <td>coupon</td>\n      <td>1</td>\n      <td>0</td>\n      <td>-0.148206</td>\n      <td>-0.016416</td>\n    </tr>\n    <tr>\n      <th>2018</th>\n      <td>30</td>\n      <td>December</td>\n      <td>Champagne</td>\n      <td>72</td>\n      <td>89</td>\n      <td>France</td>\n      <td>FALSE</td>\n      <td>Stewart</td>\n      <td>coupon</td>\n      <td>1</td>\n      <td>3</td>\n      <td>-1.042430</td>\n      <td>-0.006991</td>\n    </tr>\n    <tr>\n      <th>2019</th>\n      <td>30</td>\n      <td>December</td>\n      <td>Champagne</td>\n      <td>72</td>\n      <td>89</td>\n      <td>France</td>\n      <td>FALSE</td>\n      <td>Stewart</td>\n      <td>coupon</td>\n      <td>1</td>\n      <td>3</td>\n      <td>-1.042430</td>\n      <td>-0.006991</td>\n    </tr>\n    <tr>\n      <th>2020</th>\n      <td>30</td>\n      <td>December</td>\n      <td>Champagne</td>\n      <td>72</td>\n      <td>89</td>\n      <td>France</td>\n      <td>FALSE</td>\n      <td>Diaz</td>\n      <td>coupon</td>\n      <td>1</td>\n      <td>3</td>\n      <td>-1.384874</td>\n      <td>-0.143145</td>\n    </tr>\n    <tr>\n      <th>2021</th>\n      <td>30</td>\n      <td>December</td>\n      <td>Champagne</td>\n      <td>72</td>\n      <td>89</td>\n      <td>France</td>\n      <td>FALSE</td>\n      <td>Diaz</td>\n      <td>coupon</td>\n      <td>1</td>\n      <td>3</td>\n      <td>-1.384874</td>\n      <td>-0.143145</td>\n    </tr>\n    <tr>\n      <th>2022</th>\n      <td>30</td>\n      <td>December</td>\n      <td>Champagne</td>\n      <td>72</td>\n      <td>89</td>\n      <td>France</td>\n      <td>FALSE</td>\n      <td>James</td>\n      <td>coupon</td>\n      <td>1</td>\n      <td>3</td>\n      <td>-1.458526</td>\n      <td>-0.191031</td>\n    </tr>\n    <tr>\n      <th>2023</th>\n      <td>30</td>\n      <td>December</td>\n      <td>Champagne</td>\n      <td>72</td>\n      <td>89</td>\n      <td>France</td>\n      <td>FALSE</td>\n      <td>James</td>\n      <td>coupon</td>\n      <td>1</td>\n      <td>3</td>\n      <td>-1.458526</td>\n      <td>-0.191031</td>\n    </tr>\n    <tr>\n      <th>2024</th>\n      <td>30</td>\n      <td>December</td>\n      <td>Champagne</td>\n      <td>72</td>\n      <td>89</td>\n      <td>France</td>\n      <td>FALSE</td>\n      <td>Cruz</td>\n      <td>coupon</td>\n      <td>1</td>\n      <td>3</td>\n      <td>-0.698886</td>\n      <td>0.134868</td>\n    </tr>\n    <tr>\n      <th>2025</th>\n      <td>30</td>\n      <td>December</td>\n      <td>Champagne</td>\n      <td>72</td>\n      <td>89</td>\n      <td>France</td>\n      <td>FALSE</td>\n      <td>Cruz</td>\n      <td>coupon</td>\n      <td>1</td>\n      <td>3</td>\n      <td>-0.698886</td>\n      <td>0.134868</td>\n    </tr>\n    <tr>\n      <th>2026</th>\n      <td>30</td>\n      <td>December</td>\n      <td>Champagne</td>\n      <td>72</td>\n      <td>89</td>\n      <td>France</td>\n      <td>FALSE</td>\n      <td>Hughes</td>\n      <td>coupon</td>\n      <td>1</td>\n      <td>3</td>\n      <td>-1.570299</td>\n      <td>-0.153156</td>\n    </tr>\n    <tr>\n      <th>2027</th>\n      <td>30</td>\n      <td>December</td>\n      <td>Champagne</td>\n      <td>72</td>\n      <td>89</td>\n      <td>France</td>\n      <td>FALSE</td>\n      <td>Hughes</td>\n      <td>coupon</td>\n      <td>1</td>\n      <td>3</td>\n      <td>-1.570299</td>\n      <td>-0.153156</td>\n    </tr>\n    <tr>\n      <th>2028</th>\n      <td>30</td>\n      <td>December</td>\n      <td>Champagne</td>\n      <td>72</td>\n      <td>89</td>\n      <td>France</td>\n      <td>FALSE</td>\n      <td>Price</td>\n      <td>coupon</td>\n      <td>1</td>\n      <td>1</td>\n      <td>0.088505</td>\n      <td>-0.546601</td>\n    </tr>\n    <tr>\n      <th>2029</th>\n      <td>30</td>\n      <td>December</td>\n      <td>Champagne</td>\n      <td>72</td>\n      <td>89</td>\n      <td>France</td>\n      <td>FALSE</td>\n      <td>Price</td>\n      <td>coupon</td>\n      <td>1</td>\n      <td>1</td>\n      <td>0.088505</td>\n      <td>-0.546601</td>\n    </tr>\n    <tr>\n      <th>2030</th>\n      <td>30</td>\n      <td>December</td>\n      <td>Champagne</td>\n      <td>72</td>\n      <td>89</td>\n      <td>France</td>\n      <td>FALSE</td>\n      <td>Myers</td>\n      <td>coupon</td>\n      <td>1</td>\n      <td>3</td>\n      <td>-0.587113</td>\n      <td>0.096993</td>\n    </tr>\n    <tr>\n      <th>2031</th>\n      <td>30</td>\n      <td>December</td>\n      <td>Champagne</td>\n      <td>72</td>\n      <td>89</td>\n      <td>France</td>\n      <td>FALSE</td>\n      <td>Myers</td>\n      <td>coupon</td>\n      <td>1</td>\n      <td>3</td>\n      <td>-0.587113</td>\n      <td>0.096993</td>\n    </tr>\n    <tr>\n      <th>2032</th>\n      <td>30</td>\n      <td>December</td>\n      <td>Champagne</td>\n      <td>72</td>\n      <td>89</td>\n      <td>France</td>\n      <td>FALSE</td>\n      <td>Myers</td>\n      <td>coupon</td>\n      <td>1</td>\n      <td>3</td>\n      <td>-0.587113</td>\n      <td>0.096993</td>\n    </tr>\n    <tr>\n      <th>2033</th>\n      <td>30</td>\n      <td>December</td>\n      <td>Champagne</td>\n      <td>72</td>\n      <td>89</td>\n      <td>France</td>\n      <td>FALSE</td>\n      <td>Myers</td>\n      <td>coupon</td>\n      <td>1</td>\n      <td>3</td>\n      <td>-0.587113</td>\n      <td>0.096993</td>\n    </tr>\n    <tr>\n      <th>2034</th>\n      <td>30</td>\n      <td>December</td>\n      <td>Champagne</td>\n      <td>72</td>\n      <td>89</td>\n      <td>France</td>\n      <td>FALSE</td>\n      <td>Perry</td>\n      <td>coupon</td>\n      <td>1</td>\n      <td>3</td>\n      <td>-1.321136</td>\n      <td>-0.005152</td>\n    </tr>\n    <tr>\n      <th>2035</th>\n      <td>30</td>\n      <td>December</td>\n      <td>Champagne</td>\n      <td>72</td>\n      <td>89</td>\n      <td>France</td>\n      <td>FALSE</td>\n      <td>Perry</td>\n      <td>coupon</td>\n      <td>1</td>\n      <td>3</td>\n      <td>-1.321136</td>\n      <td>-0.005152</td>\n    </tr>\n    <tr>\n      <th>2036</th>\n      <td>30</td>\n      <td>December</td>\n      <td>Champagne</td>\n      <td>72</td>\n      <td>89</td>\n      <td>France</td>\n      <td>FALSE</td>\n      <td>Perry</td>\n      <td>coupon</td>\n      <td>1</td>\n      <td>3</td>\n      <td>-1.321136</td>\n      <td>-0.005152</td>\n    </tr>\n    <tr>\n      <th>2037</th>\n      <td>30</td>\n      <td>December</td>\n      <td>Champagne</td>\n      <td>72</td>\n      <td>89</td>\n      <td>France</td>\n      <td>FALSE</td>\n      <td>Perry</td>\n      <td>coupon</td>\n      <td>1</td>\n      <td>3</td>\n      <td>-1.321136</td>\n      <td>-0.005152</td>\n    </tr>\n    <tr>\n      <th>2038</th>\n      <td>30</td>\n      <td>December</td>\n      <td>Champagne</td>\n      <td>72</td>\n      <td>89</td>\n      <td>France</td>\n      <td>FALSE</td>\n      <td>Butler</td>\n      <td>coupon</td>\n      <td>1</td>\n      <td>1</td>\n      <td>0.313231</td>\n      <td>-0.770769</td>\n    </tr>\n    <tr>\n      <th>2039</th>\n      <td>30</td>\n      <td>December</td>\n      <td>Champagne</td>\n      <td>72</td>\n      <td>89</td>\n      <td>France</td>\n      <td>FALSE</td>\n      <td>Butler</td>\n      <td>coupon</td>\n      <td>1</td>\n      <td>1</td>\n      <td>0.313231</td>\n      <td>-0.770769</td>\n    </tr>\n    <tr>\n      <th>2040</th>\n      <td>30</td>\n      <td>December</td>\n      <td>Champagne</td>\n      <td>72</td>\n      <td>89</td>\n      <td>France</td>\n      <td>FALSE</td>\n      <td>Butler</td>\n      <td>coupon</td>\n      <td>1</td>\n      <td>1</td>\n      <td>0.313231</td>\n      <td>-0.770769</td>\n    </tr>\n    <tr>\n      <th>2041</th>\n      <td>30</td>\n      <td>December</td>\n      <td>Champagne</td>\n      <td>72</td>\n      <td>89</td>\n      <td>France</td>\n      <td>FALSE</td>\n      <td>Butler</td>\n      <td>coupon</td>\n      <td>1</td>\n      <td>1</td>\n      <td>0.313231</td>\n      <td>-0.770769</td>\n    </tr>\n    <tr>\n      <th>2042</th>\n      <td>30</td>\n      <td>December</td>\n      <td>Champagne</td>\n      <td>72</td>\n      <td>89</td>\n      <td>France</td>\n      <td>FALSE</td>\n      <td>Fisher</td>\n      <td>coupon</td>\n      <td>1</td>\n      <td>1</td>\n      <td>0.415438</td>\n      <td>-0.547695</td>\n    </tr>\n    <tr>\n      <th>2043</th>\n      <td>30</td>\n      <td>December</td>\n      <td>Champagne</td>\n      <td>72</td>\n      <td>89</td>\n      <td>France</td>\n      <td>FALSE</td>\n      <td>Fisher</td>\n      <td>coupon</td>\n      <td>1</td>\n      <td>1</td>\n      <td>0.415438</td>\n      <td>-0.547695</td>\n    </tr>\n  </tbody>\n</table>\n<p>2044 rows \u00d7 13 columns</p>\n</div>"
                    }, 
                    "execution_count": 31, 
                    "output_type": "execute_result", 
                    "metadata": {}
                }
            ], 
            "cell_type": "code", 
            "source": "\n\ndf = pd.merge(df_transactions, customer_clusters)\ndf = pd.merge(df_offers, df)\ndf\n\n"
        }, 
        {
            "source": "As a baseline, take a look at the varietal counts for cluster 1 vs. everyone else. It turns out that almost all of the Chardonnay offers were purchased by members of cluster 1. In addition, none of the Malbec offers were purchased by members of cluster 1.", 
            "cell_type": "markdown", 
            "metadata": {}
        }, 
        {
            "execution_count": 32, 
            "metadata": {
                "collapsed": false
            }, 
            "outputs": [
                {
                    "data": {
                        "text/plain": "is_1   varietal          \nFalse  Champagne             428\n       Chardonnay            224\n       Cabernet Sauvignon    204\n       Prosecco              196\n       Espumante             160\n       Pinot Noir            104\n       Merlot                 96\n       Malbec                 72\n       Pinot Grigio           16\nTrue   Chardonnay            176\n       Champagne              92\n       Prosecco               84\n       Cabernet Sauvignon     64\n       Pinot Noir             60\n       Merlot                 48\n       Pinot Grigio           12\n       Espumante               8\ndtype: int64"
                    }, 
                    "execution_count": 32, 
                    "output_type": "execute_result", 
                    "metadata": {}
                }
            ], 
            "cell_type": "code", 
            "source": "df['is_1'] = df.cluster==1\ndf.groupby(\"is_1\").varietal.value_counts()"
        }, 
        {
            "source": "You can also segment out numerical features. For instance, look at how the mean of the min_qty field breaks out between 1 vs. non-1. It seems like members of cluster 1 like to by in bulk!", 
            "cell_type": "markdown", 
            "metadata": {}
        }, 
        {
            "execution_count": 33, 
            "metadata": {
                "collapsed": false
            }, 
            "outputs": [
                {
                    "data": {
                        "text/plain": "         min_qty   discount\nis_1                       \nFalse  66.032000  59.786667\nTrue   94.455882  51.316176", 
                        "text/html": "<div>\n<table border=\"1\" class=\"dataframe\">\n  <thead>\n    <tr style=\"text-align: right;\">\n      <th></th>\n      <th>min_qty</th>\n      <th>discount</th>\n    </tr>\n    <tr>\n      <th>is_1</th>\n      <th></th>\n      <th></th>\n    </tr>\n  </thead>\n  <tbody>\n    <tr>\n      <th>False</th>\n      <td>66.032000</td>\n      <td>59.786667</td>\n    </tr>\n    <tr>\n      <th>True</th>\n      <td>94.455882</td>\n      <td>51.316176</td>\n    </tr>\n  </tbody>\n</table>\n</div>"
                    }, 
                    "execution_count": 33, 
                    "output_type": "execute_result", 
                    "metadata": {}
                }
            ], 
            "cell_type": "code", 
            "source": "df.groupby(\"is_1\")[['min_qty', 'discount']].mean()"
        }, 
        {
            "execution_count": null, 
            "metadata": {
                "collapsed": true
            }, 
            "outputs": [], 
            "cell_type": "code", 
            "source": ""
        }
    ], 
    "metadata": {
        "language_info": {
            "nbconvert_exporter": "python", 
            "file_extension": ".py", 
            "codemirror_mode": {
                "name": "ipython", 
                "version": 2
            }, 
            "pygments_lexer": "ipython2", 
            "version": "2.7.11", 
            "mimetype": "text/x-python", 
            "name": "python"
        }, 
        "widgets": {
            "state": {}, 
            "version": "1.1.2"
        }, 
        "kernelspec": {
            "language": "python", 
            "display_name": "Python 2 with Spark 1.6", 
            "name": "python2"
        }
    }
}